{
 "cells": [
  {
   "cell_type": "markdown",
   "metadata": {},
   "source": [
    "## Conclusion\n",
    "\n",
    "The Pearson correlation coefficient test results indicate the strength and significance of the relationships between different variables. In this analysis:\n",
    "\n",
    "- **The strongest correlation is observed between Palace and Metropolitan examinations, with a correlation coefficient of 0.182584, indicating a moderate positive correlation. This correlation is highly statistically significant with a p-value of 3.097262e-101.**\n",
    "\n",
    "- The correlation coefficient between Metropolitan and Provincial examinations is 0.075779, suggesting a weak positive correlation, which is statistically significant with a p-value of 1.326249e-18.\n",
    "  \n",
    "- The correlation coefficient between Palace and Provincial examinations is 0.043199, indicating a similarly weak positive correlation, also statistically significant with a p-value of 5.340735e-07.\n",
    "\n",
    "\n",
    "\n",
    "| Relationship            | Correlation Coefficient | p-value            |\n",
    "|-------------------------|-------------------------|--------------------|\n",
    "| Metropolitan vs Provincial | 0.075779                | 1.326249e-18       |\n",
    "| Palace vs Provincial       | 0.043199                | 5.340735e-07       |\n",
    "| Palace vs Metropolitan     | 0.182584                | 3.097262e-101      |\n"
   ]
  },
  {
   "cell_type": "code",
   "execution_count": 23,
   "metadata": {},
   "outputs": [],
   "source": [
    "import pandas as pd"
   ]
  },
  {
   "cell_type": "markdown",
   "metadata": {},
   "source": [
    "## Read the source data"
   ]
  },
  {
   "cell_type": "code",
   "execution_count": 24,
   "metadata": {},
   "outputs": [
    {
     "name": "stdout",
     "output_type": "stream",
     "text": [
      "(14116, 8)\n"
     ]
    },
    {
     "data": {
      "text/html": [
       "<div>\n",
       "<style scoped>\n",
       "    .dataframe tbody tr th:only-of-type {\n",
       "        vertical-align: middle;\n",
       "    }\n",
       "\n",
       "    .dataframe tbody tr th {\n",
       "        vertical-align: top;\n",
       "    }\n",
       "\n",
       "    .dataframe thead th {\n",
       "        text-align: right;\n",
       "    }\n",
       "</style>\n",
       "<table border=\"1\" class=\"dataframe\">\n",
       "  <thead>\n",
       "    <tr style=\"text-align: right;\">\n",
       "      <th></th>\n",
       "      <th>ID_MING_JINSHI</th>\n",
       "      <th>personid</th>\n",
       "      <th>name</th>\n",
       "      <th>pl_rank_1</th>\n",
       "      <th>pl_rank_2</th>\n",
       "      <th>pr_rank</th>\n",
       "      <th>me_rank</th>\n",
       "      <th>entry_year</th>\n",
       "    </tr>\n",
       "  </thead>\n",
       "  <tbody>\n",
       "    <tr>\n",
       "      <th>0</th>\n",
       "      <td>JINSHI_1-120.csv_1</td>\n",
       "      <td>34414</td>\n",
       "      <td>吳伯宗</td>\n",
       "      <td>第一甲</td>\n",
       "      <td>第一名</td>\n",
       "      <td>第一名</td>\n",
       "      <td>第二十四名</td>\n",
       "      <td>1371</td>\n",
       "    </tr>\n",
       "    <tr>\n",
       "      <th>1</th>\n",
       "      <td>JINSHI_1-120.csv_2</td>\n",
       "      <td>198025</td>\n",
       "      <td>郭翀</td>\n",
       "      <td>第一甲</td>\n",
       "      <td>第二名</td>\n",
       "      <td>第八名</td>\n",
       "      <td>第五十一名</td>\n",
       "      <td>1371</td>\n",
       "    </tr>\n",
       "    <tr>\n",
       "      <th>2</th>\n",
       "      <td>JINSHI_1-120.csv_3</td>\n",
       "      <td>198026</td>\n",
       "      <td>吳公達</td>\n",
       "      <td>第一甲</td>\n",
       "      <td>第三名</td>\n",
       "      <td>第二十九名</td>\n",
       "      <td>第一百十五名</td>\n",
       "      <td>1371</td>\n",
       "    </tr>\n",
       "    <tr>\n",
       "      <th>3</th>\n",
       "      <td>JINSHI_1-120.csv_4</td>\n",
       "      <td>66504</td>\n",
       "      <td>楊自立</td>\n",
       "      <td>第二甲</td>\n",
       "      <td>第一名</td>\n",
       "      <td>第八名</td>\n",
       "      <td>第三名</td>\n",
       "      <td>1371</td>\n",
       "    </tr>\n",
       "    <tr>\n",
       "      <th>4</th>\n",
       "      <td>JINSHI_1-120.csv_5</td>\n",
       "      <td>198027</td>\n",
       "      <td>趙友能</td>\n",
       "      <td>第二甲</td>\n",
       "      <td>第二名</td>\n",
       "      <td>第二十八名</td>\n",
       "      <td>第七十三名</td>\n",
       "      <td>1371</td>\n",
       "    </tr>\n",
       "  </tbody>\n",
       "</table>\n",
       "</div>"
      ],
      "text/plain": [
       "       ID_MING_JINSHI  personid name pl_rank_1 pl_rank_2 pr_rank me_rank  \\\n",
       "0  JINSHI_1-120.csv_1     34414  吳伯宗       第一甲       第一名     第一名   第二十四名   \n",
       "1  JINSHI_1-120.csv_2    198025   郭翀       第一甲       第二名     第八名   第五十一名   \n",
       "2  JINSHI_1-120.csv_3    198026  吳公達       第一甲       第三名   第二十九名  第一百十五名   \n",
       "3  JINSHI_1-120.csv_4     66504  楊自立       第二甲       第一名     第八名     第三名   \n",
       "4  JINSHI_1-120.csv_5    198027  趙友能       第二甲       第二名   第二十八名   第七十三名   \n",
       "\n",
       "   entry_year  \n",
       "0        1371  \n",
       "1        1371  \n",
       "2        1371  \n",
       "3        1371  \n",
       "4        1371  "
      ]
     },
     "execution_count": 24,
     "metadata": {},
     "output_type": "execute_result"
    }
   ],
   "source": [
    "input_data_df = pd.read_excel('ming_jinshilu_52y_release.xlsx', sheet_name='Ming Jinshi Lists')\n",
    "\n",
    "# only keep ID_MING_JINSHI, CBDB_personid, 姓名, 甲次, 名次, 鄉試名次, 會試名次, 進士年份\n",
    "input_data_df = input_data_df[['ID_MING_JINSHI', 'CBDB_personid', '姓名', '甲次', '名次', '鄉試名次', '會試名次', '進士年份']]\n",
    "\n",
    "# rename columns to 'ID_MING_JINSHI', 'personid', 'name', 'p_rank_1', 'p_rank_2', p_rank', 'm_rank'\n",
    "input_data_df.columns = ['ID_MING_JINSHI', 'personid', 'name', 'pl_rank_1', 'pl_rank_2', 'pr_rank', 'me_rank', 'entry_year']\n",
    "\n",
    "print(input_data_df.shape)\n",
    "\n",
    "input_data_df.head()"
   ]
  },
  {
   "cell_type": "markdown",
   "metadata": {},
   "source": [
    "## Create arabic numbers Chinese mapping for pa, pr, and me ranks"
   ]
  },
  {
   "cell_type": "markdown",
   "metadata": {},
   "source": [
    "### Create 甲次 jiaci mapping"
   ]
  },
  {
   "cell_type": "code",
   "execution_count": 25,
   "metadata": {},
   "outputs": [
    {
     "name": "stdout",
     "output_type": "stream",
     "text": [
      "['第一甲' '第二甲' '第三甲' nan '第仕至二甲' '第乙未殿試二甲']\n"
     ]
    }
   ],
   "source": [
    "# Find unique values in pl_rank_1\n",
    "jiaci_unique = input_data_df['pl_rank_1'].unique()\n",
    "print(jiaci_unique)\n",
    "\n",
    "# Create a dictionary to map the jiaci to a number\n",
    "jiaci_dict = {'第一甲': 1, '第二甲': 2, '第三甲': 3, '第仕至二甲': 2, '第乙未殿試二甲': 2}"
   ]
  },
  {
   "cell_type": "markdown",
   "metadata": {},
   "source": [
    "### Create 名次 mingci mapping"
   ]
  },
  {
   "cell_type": "code",
   "execution_count": 26,
   "metadata": {},
   "outputs": [
    {
     "name": "stdout",
     "output_type": "stream",
     "text": [
      "(3297,)\n"
     ]
    },
    {
     "data": {
      "text/plain": [
       "array(['第一名', '第二十四名', '第二名', '第八名', '第五十一名', '第三名', '第二十九名', '第一百十五名',\n",
       "       '第二十八名', '第七十三名'], dtype=object)"
      ]
     },
     "execution_count": 26,
     "metadata": {},
     "output_type": "execute_result"
    }
   ],
   "source": [
    "# Combine pl_rank_2, pr_rank, me_rank together, keep the unique values\n",
    "rank_unique = input_data_df[['pl_rank_2', 'pr_rank', 'me_rank']].stack().unique()\n",
    "# save the unique values to a txt file\n",
    "with open('rank_unique.txt', 'w') as f:\n",
    "    for item in rank_unique:\n",
    "        f.write(\"%s\\n\" % item)\n",
    "print(rank_unique.shape)\n",
    "rank_unique[:10]"
   ]
  },
  {
   "cell_type": "code",
   "execution_count": 27,
   "metadata": {},
   "outputs": [
    {
     "data": {
      "text/html": [
       "<div>\n",
       "<style scoped>\n",
       "    .dataframe tbody tr th:only-of-type {\n",
       "        vertical-align: middle;\n",
       "    }\n",
       "\n",
       "    .dataframe tbody tr th {\n",
       "        vertical-align: top;\n",
       "    }\n",
       "\n",
       "    .dataframe thead th {\n",
       "        text-align: right;\n",
       "    }\n",
       "</style>\n",
       "<table border=\"1\" class=\"dataframe\">\n",
       "  <thead>\n",
       "    <tr style=\"text-align: right;\">\n",
       "      <th></th>\n",
       "      <th>rank_unique</th>\n",
       "      <th>rank_unique_cleaned</th>\n",
       "    </tr>\n",
       "  </thead>\n",
       "  <tbody>\n",
       "    <tr>\n",
       "      <th>0</th>\n",
       "      <td>第一名</td>\n",
       "      <td>一</td>\n",
       "    </tr>\n",
       "    <tr>\n",
       "      <th>1</th>\n",
       "      <td>第二十四名</td>\n",
       "      <td>二十四</td>\n",
       "    </tr>\n",
       "    <tr>\n",
       "      <th>2</th>\n",
       "      <td>第二名</td>\n",
       "      <td>二</td>\n",
       "    </tr>\n",
       "    <tr>\n",
       "      <th>3</th>\n",
       "      <td>第八名</td>\n",
       "      <td>八</td>\n",
       "    </tr>\n",
       "    <tr>\n",
       "      <th>4</th>\n",
       "      <td>第五十一名</td>\n",
       "      <td>五十一</td>\n",
       "    </tr>\n",
       "  </tbody>\n",
       "</table>\n",
       "</div>"
      ],
      "text/plain": [
       "  rank_unique rank_unique_cleaned\n",
       "0         第一名                   一\n",
       "1       第二十四名                 二十四\n",
       "2         第二名                   二\n",
       "3         第八名                   八\n",
       "4       第五十一名                 五十一"
      ]
     },
     "execution_count": 27,
     "metadata": {},
     "output_type": "execute_result"
    }
   ],
   "source": [
    "rank_unique_cleaned = []\n",
    "# In rank_unique\n",
    "# 1. Use regex to remove \"^.*試\" and ^.*第 from the string\n",
    "# 2. Remove \"　\" and \" \" from the string\n",
    "# 3. Skip the string if it contains \"□\"\n",
    "# 4. Remove 名\n",
    "# 5. If there is no 一二三四五六七八九十百 in the string, skip the string\n",
    "import re\n",
    "for rank in rank_unique:\n",
    "    # specific rules\n",
    "    rank = rank.replace('一百三十五名未廷試', '一百三十五')\n",
    "    rank = rank.replace('叄', '三')\n",
    "    rank = rank.replace('、', '')\n",
    "    rank = rank.replace('士一', '十一')\n",
    "    rank = re.sub('台$', '', rank)\n",
    "\n",
    "    # general rules\n",
    "    rank = re.sub('^.*試', '', rank)\n",
    "    rank = re.sub('^.*第', '', rank)\n",
    "    rank = rank.replace('　', '')\n",
    "    rank = rank.replace(' ', '')\n",
    "    rank = rank.replace('名', '')\n",
    "    if '□' in rank:\n",
    "        rank = ''\n",
    "    if not re.search('[一二三四五六七八九十百]', rank) and rank != '':\n",
    "        # rank = \"no_number\"\n",
    "        rank = \"\"\n",
    "    rank_unique_cleaned.append(rank)\n",
    "\n",
    "# save rank_unique and rank_unique_cleaned to two columns in a csv file\n",
    "rank_unique_df = pd.DataFrame({'rank_unique': rank_unique, 'rank_unique_cleaned': rank_unique_cleaned})\n",
    "rank_unique_df.to_csv('rank_unique.csv', index=False, encoding='utf-8-sig')\n",
    "rank_unique_df.head()"
   ]
  },
  {
   "cell_type": "code",
   "execution_count": 28,
   "metadata": {},
   "outputs": [
    {
     "name": "stdout",
     "output_type": "stream",
     "text": [
      "467\n"
     ]
    }
   ],
   "source": [
    "# Print the unique number of rank_unique_cleaned\n",
    "rank_unique_cleaned_unique = list(set(rank_unique_cleaned))\n",
    "# Remove the empty string\n",
    "rank_unique_cleaned_unique.remove('')\n",
    "print(len(rank_unique_cleaned_unique))\n",
    "# save the unique values to a txt file\n",
    "with open('rank_unique_cleaned_unique.txt', 'w') as f:\n",
    "    for item in rank_unique_cleaned_unique:\n",
    "        f.write(\"%s\\n\" % item)\n"
   ]
  },
  {
   "cell_type": "markdown",
   "metadata": {},
   "source": [
    "## Create number column for input_data_df"
   ]
  },
  {
   "cell_type": "code",
   "execution_count": 29,
   "metadata": {},
   "outputs": [
    {
     "name": "stdout",
     "output_type": "stream",
     "text": [
      "第一名 1.0\n",
      "第二十四名 24.0\n",
      "第二名 2.0\n",
      "第八名 8.0\n",
      "第五十一名 51.0\n",
      "第三名 3.0\n",
      "第二十九名 29.0\n",
      "第一百十五名 115.0\n",
      "第二十八名 28.0\n",
      "第七十三名 73.0\n"
     ]
    }
   ],
   "source": [
    "number_mapping_df = pd.read_excel('number_mapping_from_llm.xlsx', sheet_name='data')\n",
    "number_mapping_df.head()\n",
    "\n",
    "# Create a dictionary to map the rank to a number\n",
    "rank_dict = {}\n",
    "for index, row in number_mapping_df.iterrows():\n",
    "    rank_dict[row['rank']] = row['number']\n",
    "\n",
    "# Add number columns to the rank_unique_df\n",
    "rank_unique_df['number'] = rank_unique_df['rank_unique_cleaned'].map(rank_dict)\n",
    "\n",
    "# Create a dictionary to map the rank_unique to a number\n",
    "rank_unique_dict = {}\n",
    "for index, row in rank_unique_df.iterrows():\n",
    "    rank_unique_dict[row['rank_unique']] = row['number']\n",
    "\n",
    "for key in list(rank_unique_dict.keys())[:10]:\n",
    "    print(key, rank_unique_dict[key])"
   ]
  },
  {
   "cell_type": "code",
   "execution_count": 30,
   "metadata": {},
   "outputs": [
    {
     "data": {
      "text/html": [
       "<div>\n",
       "<style scoped>\n",
       "    .dataframe tbody tr th:only-of-type {\n",
       "        vertical-align: middle;\n",
       "    }\n",
       "\n",
       "    .dataframe tbody tr th {\n",
       "        vertical-align: top;\n",
       "    }\n",
       "\n",
       "    .dataframe thead th {\n",
       "        text-align: right;\n",
       "    }\n",
       "</style>\n",
       "<table border=\"1\" class=\"dataframe\">\n",
       "  <thead>\n",
       "    <tr style=\"text-align: right;\">\n",
       "      <th></th>\n",
       "      <th>ID_MING_JINSHI</th>\n",
       "      <th>personid</th>\n",
       "      <th>name</th>\n",
       "      <th>pl_rank_1</th>\n",
       "      <th>pl_rank_2</th>\n",
       "      <th>pr_rank</th>\n",
       "      <th>me_rank</th>\n",
       "      <th>entry_year</th>\n",
       "      <th>pl_rank_1_number</th>\n",
       "      <th>pl_rank_2_number</th>\n",
       "      <th>pr_rank_number</th>\n",
       "      <th>me_rank_number</th>\n",
       "    </tr>\n",
       "  </thead>\n",
       "  <tbody>\n",
       "    <tr>\n",
       "      <th>0</th>\n",
       "      <td>JINSHI_1-120.csv_1</td>\n",
       "      <td>34414</td>\n",
       "      <td>吳伯宗</td>\n",
       "      <td>第一甲</td>\n",
       "      <td>第一名</td>\n",
       "      <td>第一名</td>\n",
       "      <td>第二十四名</td>\n",
       "      <td>1371</td>\n",
       "      <td>1.0</td>\n",
       "      <td>1.0</td>\n",
       "      <td>1.0</td>\n",
       "      <td>24.0</td>\n",
       "    </tr>\n",
       "    <tr>\n",
       "      <th>1</th>\n",
       "      <td>JINSHI_1-120.csv_2</td>\n",
       "      <td>198025</td>\n",
       "      <td>郭翀</td>\n",
       "      <td>第一甲</td>\n",
       "      <td>第二名</td>\n",
       "      <td>第八名</td>\n",
       "      <td>第五十一名</td>\n",
       "      <td>1371</td>\n",
       "      <td>1.0</td>\n",
       "      <td>2.0</td>\n",
       "      <td>8.0</td>\n",
       "      <td>51.0</td>\n",
       "    </tr>\n",
       "    <tr>\n",
       "      <th>2</th>\n",
       "      <td>JINSHI_1-120.csv_3</td>\n",
       "      <td>198026</td>\n",
       "      <td>吳公達</td>\n",
       "      <td>第一甲</td>\n",
       "      <td>第三名</td>\n",
       "      <td>第二十九名</td>\n",
       "      <td>第一百十五名</td>\n",
       "      <td>1371</td>\n",
       "      <td>1.0</td>\n",
       "      <td>3.0</td>\n",
       "      <td>29.0</td>\n",
       "      <td>115.0</td>\n",
       "    </tr>\n",
       "    <tr>\n",
       "      <th>3</th>\n",
       "      <td>JINSHI_1-120.csv_4</td>\n",
       "      <td>66504</td>\n",
       "      <td>楊自立</td>\n",
       "      <td>第二甲</td>\n",
       "      <td>第一名</td>\n",
       "      <td>第八名</td>\n",
       "      <td>第三名</td>\n",
       "      <td>1371</td>\n",
       "      <td>2.0</td>\n",
       "      <td>1.0</td>\n",
       "      <td>8.0</td>\n",
       "      <td>3.0</td>\n",
       "    </tr>\n",
       "    <tr>\n",
       "      <th>4</th>\n",
       "      <td>JINSHI_1-120.csv_5</td>\n",
       "      <td>198027</td>\n",
       "      <td>趙友能</td>\n",
       "      <td>第二甲</td>\n",
       "      <td>第二名</td>\n",
       "      <td>第二十八名</td>\n",
       "      <td>第七十三名</td>\n",
       "      <td>1371</td>\n",
       "      <td>2.0</td>\n",
       "      <td>2.0</td>\n",
       "      <td>28.0</td>\n",
       "      <td>73.0</td>\n",
       "    </tr>\n",
       "  </tbody>\n",
       "</table>\n",
       "</div>"
      ],
      "text/plain": [
       "       ID_MING_JINSHI  personid name pl_rank_1 pl_rank_2 pr_rank me_rank  \\\n",
       "0  JINSHI_1-120.csv_1     34414  吳伯宗       第一甲       第一名     第一名   第二十四名   \n",
       "1  JINSHI_1-120.csv_2    198025   郭翀       第一甲       第二名     第八名   第五十一名   \n",
       "2  JINSHI_1-120.csv_3    198026  吳公達       第一甲       第三名   第二十九名  第一百十五名   \n",
       "3  JINSHI_1-120.csv_4     66504  楊自立       第二甲       第一名     第八名     第三名   \n",
       "4  JINSHI_1-120.csv_5    198027  趙友能       第二甲       第二名   第二十八名   第七十三名   \n",
       "\n",
       "   entry_year  pl_rank_1_number  pl_rank_2_number  pr_rank_number  \\\n",
       "0        1371               1.0               1.0             1.0   \n",
       "1        1371               1.0               2.0             8.0   \n",
       "2        1371               1.0               3.0            29.0   \n",
       "3        1371               2.0               1.0             8.0   \n",
       "4        1371               2.0               2.0            28.0   \n",
       "\n",
       "   me_rank_number  \n",
       "0            24.0  \n",
       "1            51.0  \n",
       "2           115.0  \n",
       "3             3.0  \n",
       "4            73.0  "
      ]
     },
     "execution_count": 30,
     "metadata": {},
     "output_type": "execute_result"
    }
   ],
   "source": [
    "# Add number columns to the input_data_df\n",
    "input_data_df['pl_rank_1_number'] = input_data_df['pl_rank_1'].map(jiaci_dict)\n",
    "input_data_df['pl_rank_2_number'] = input_data_df['pl_rank_2'].map(rank_unique_dict)\n",
    "input_data_df['pr_rank_number'] = input_data_df['pr_rank'].map(rank_unique_dict)\n",
    "input_data_df['me_rank_number'] = input_data_df['me_rank'].map(rank_unique_dict)\n",
    "\n",
    "input_data_df.head()"
   ]
  },
  {
   "cell_type": "code",
   "execution_count": 31,
   "metadata": {},
   "outputs": [
    {
     "data": {
      "text/html": [
       "<div>\n",
       "<style scoped>\n",
       "    .dataframe tbody tr th:only-of-type {\n",
       "        vertical-align: middle;\n",
       "    }\n",
       "\n",
       "    .dataframe tbody tr th {\n",
       "        vertical-align: top;\n",
       "    }\n",
       "\n",
       "    .dataframe thead th {\n",
       "        text-align: right;\n",
       "    }\n",
       "</style>\n",
       "<table border=\"1\" class=\"dataframe\">\n",
       "  <thead>\n",
       "    <tr style=\"text-align: right;\">\n",
       "      <th></th>\n",
       "      <th>ID_MING_JINSHI</th>\n",
       "      <th>personid</th>\n",
       "      <th>name</th>\n",
       "      <th>pl_rank_1</th>\n",
       "      <th>pl_rank_2</th>\n",
       "      <th>pr_rank</th>\n",
       "      <th>me_rank</th>\n",
       "      <th>entry_year</th>\n",
       "      <th>pl_rank_1_number</th>\n",
       "      <th>pl_rank_2_number</th>\n",
       "      <th>pr_rank_number</th>\n",
       "      <th>me_rank_number</th>\n",
       "      <th>pl_rank_number</th>\n",
       "    </tr>\n",
       "  </thead>\n",
       "  <tbody>\n",
       "    <tr>\n",
       "      <th>0</th>\n",
       "      <td>JINSHI_1-120.csv_1</td>\n",
       "      <td>34414</td>\n",
       "      <td>吳伯宗</td>\n",
       "      <td>第一甲</td>\n",
       "      <td>第一名</td>\n",
       "      <td>第一名</td>\n",
       "      <td>第二十四名</td>\n",
       "      <td>1371</td>\n",
       "      <td>1.0</td>\n",
       "      <td>1.0</td>\n",
       "      <td>1.0</td>\n",
       "      <td>24.0</td>\n",
       "      <td>1.001</td>\n",
       "    </tr>\n",
       "    <tr>\n",
       "      <th>1</th>\n",
       "      <td>JINSHI_1-120.csv_2</td>\n",
       "      <td>198025</td>\n",
       "      <td>郭翀</td>\n",
       "      <td>第一甲</td>\n",
       "      <td>第二名</td>\n",
       "      <td>第八名</td>\n",
       "      <td>第五十一名</td>\n",
       "      <td>1371</td>\n",
       "      <td>1.0</td>\n",
       "      <td>2.0</td>\n",
       "      <td>8.0</td>\n",
       "      <td>51.0</td>\n",
       "      <td>1.002</td>\n",
       "    </tr>\n",
       "    <tr>\n",
       "      <th>2</th>\n",
       "      <td>JINSHI_1-120.csv_3</td>\n",
       "      <td>198026</td>\n",
       "      <td>吳公達</td>\n",
       "      <td>第一甲</td>\n",
       "      <td>第三名</td>\n",
       "      <td>第二十九名</td>\n",
       "      <td>第一百十五名</td>\n",
       "      <td>1371</td>\n",
       "      <td>1.0</td>\n",
       "      <td>3.0</td>\n",
       "      <td>29.0</td>\n",
       "      <td>115.0</td>\n",
       "      <td>1.003</td>\n",
       "    </tr>\n",
       "    <tr>\n",
       "      <th>3</th>\n",
       "      <td>JINSHI_1-120.csv_4</td>\n",
       "      <td>66504</td>\n",
       "      <td>楊自立</td>\n",
       "      <td>第二甲</td>\n",
       "      <td>第一名</td>\n",
       "      <td>第八名</td>\n",
       "      <td>第三名</td>\n",
       "      <td>1371</td>\n",
       "      <td>2.0</td>\n",
       "      <td>1.0</td>\n",
       "      <td>8.0</td>\n",
       "      <td>3.0</td>\n",
       "      <td>2.001</td>\n",
       "    </tr>\n",
       "    <tr>\n",
       "      <th>4</th>\n",
       "      <td>JINSHI_1-120.csv_5</td>\n",
       "      <td>198027</td>\n",
       "      <td>趙友能</td>\n",
       "      <td>第二甲</td>\n",
       "      <td>第二名</td>\n",
       "      <td>第二十八名</td>\n",
       "      <td>第七十三名</td>\n",
       "      <td>1371</td>\n",
       "      <td>2.0</td>\n",
       "      <td>2.0</td>\n",
       "      <td>28.0</td>\n",
       "      <td>73.0</td>\n",
       "      <td>2.002</td>\n",
       "    </tr>\n",
       "  </tbody>\n",
       "</table>\n",
       "</div>"
      ],
      "text/plain": [
       "       ID_MING_JINSHI  personid name pl_rank_1 pl_rank_2 pr_rank me_rank  \\\n",
       "0  JINSHI_1-120.csv_1     34414  吳伯宗       第一甲       第一名     第一名   第二十四名   \n",
       "1  JINSHI_1-120.csv_2    198025   郭翀       第一甲       第二名     第八名   第五十一名   \n",
       "2  JINSHI_1-120.csv_3    198026  吳公達       第一甲       第三名   第二十九名  第一百十五名   \n",
       "3  JINSHI_1-120.csv_4     66504  楊自立       第二甲       第一名     第八名     第三名   \n",
       "4  JINSHI_1-120.csv_5    198027  趙友能       第二甲       第二名   第二十八名   第七十三名   \n",
       "\n",
       "   entry_year  pl_rank_1_number  pl_rank_2_number  pr_rank_number  \\\n",
       "0        1371               1.0               1.0             1.0   \n",
       "1        1371               1.0               2.0             8.0   \n",
       "2        1371               1.0               3.0            29.0   \n",
       "3        1371               2.0               1.0             8.0   \n",
       "4        1371               2.0               2.0            28.0   \n",
       "\n",
       "   me_rank_number  pl_rank_number  \n",
       "0            24.0           1.001  \n",
       "1            51.0           1.002  \n",
       "2           115.0           1.003  \n",
       "3             3.0           2.001  \n",
       "4            73.0           2.002  "
      ]
     },
     "execution_count": 31,
     "metadata": {},
     "output_type": "execute_result"
    }
   ],
   "source": [
    "# Create pl_rank by combining pl_rank_1_number as integer, and pl_rank_2_number as decimal\n",
    "input_data_df['pl_rank_number'] = input_data_df['pl_rank_1_number'] + input_data_df['pl_rank_2_number'] / 1000\n",
    "input_data_df.head()"
   ]
  },
  {
   "cell_type": "markdown",
   "metadata": {},
   "source": [
    "## Clean data for correlation calculation"
   ]
  },
  {
   "cell_type": "code",
   "execution_count": 32,
   "metadata": {},
   "outputs": [
    {
     "name": "stdout",
     "output_type": "stream",
     "text": [
      "(13460, 7)\n"
     ]
    },
    {
     "data": {
      "text/html": [
       "<div>\n",
       "<style scoped>\n",
       "    .dataframe tbody tr th:only-of-type {\n",
       "        vertical-align: middle;\n",
       "    }\n",
       "\n",
       "    .dataframe tbody tr th {\n",
       "        vertical-align: top;\n",
       "    }\n",
       "\n",
       "    .dataframe thead th {\n",
       "        text-align: right;\n",
       "    }\n",
       "</style>\n",
       "<table border=\"1\" class=\"dataframe\">\n",
       "  <thead>\n",
       "    <tr style=\"text-align: right;\">\n",
       "      <th></th>\n",
       "      <th>ID_MING_JINSHI</th>\n",
       "      <th>personid</th>\n",
       "      <th>name</th>\n",
       "      <th>entry_year</th>\n",
       "      <th>pr_rank_number</th>\n",
       "      <th>me_rank_number</th>\n",
       "      <th>pl_rank_number</th>\n",
       "    </tr>\n",
       "  </thead>\n",
       "  <tbody>\n",
       "    <tr>\n",
       "      <th>0</th>\n",
       "      <td>JINSHI_1-120.csv_1</td>\n",
       "      <td>34414</td>\n",
       "      <td>吳伯宗</td>\n",
       "      <td>1371</td>\n",
       "      <td>1.0</td>\n",
       "      <td>24.0</td>\n",
       "      <td>1.001</td>\n",
       "    </tr>\n",
       "    <tr>\n",
       "      <th>1</th>\n",
       "      <td>JINSHI_1-120.csv_2</td>\n",
       "      <td>198025</td>\n",
       "      <td>郭翀</td>\n",
       "      <td>1371</td>\n",
       "      <td>8.0</td>\n",
       "      <td>51.0</td>\n",
       "      <td>1.002</td>\n",
       "    </tr>\n",
       "    <tr>\n",
       "      <th>2</th>\n",
       "      <td>JINSHI_1-120.csv_3</td>\n",
       "      <td>198026</td>\n",
       "      <td>吳公達</td>\n",
       "      <td>1371</td>\n",
       "      <td>29.0</td>\n",
       "      <td>115.0</td>\n",
       "      <td>1.003</td>\n",
       "    </tr>\n",
       "    <tr>\n",
       "      <th>3</th>\n",
       "      <td>JINSHI_1-120.csv_4</td>\n",
       "      <td>66504</td>\n",
       "      <td>楊自立</td>\n",
       "      <td>1371</td>\n",
       "      <td>8.0</td>\n",
       "      <td>3.0</td>\n",
       "      <td>2.001</td>\n",
       "    </tr>\n",
       "    <tr>\n",
       "      <th>4</th>\n",
       "      <td>JINSHI_1-120.csv_5</td>\n",
       "      <td>198027</td>\n",
       "      <td>趙友能</td>\n",
       "      <td>1371</td>\n",
       "      <td>28.0</td>\n",
       "      <td>73.0</td>\n",
       "      <td>2.002</td>\n",
       "    </tr>\n",
       "  </tbody>\n",
       "</table>\n",
       "</div>"
      ],
      "text/plain": [
       "       ID_MING_JINSHI  personid name  entry_year  pr_rank_number  \\\n",
       "0  JINSHI_1-120.csv_1     34414  吳伯宗        1371             1.0   \n",
       "1  JINSHI_1-120.csv_2    198025   郭翀        1371             8.0   \n",
       "2  JINSHI_1-120.csv_3    198026  吳公達        1371            29.0   \n",
       "3  JINSHI_1-120.csv_4     66504  楊自立        1371             8.0   \n",
       "4  JINSHI_1-120.csv_5    198027  趙友能        1371            28.0   \n",
       "\n",
       "   me_rank_number  pl_rank_number  \n",
       "0            24.0           1.001  \n",
       "1            51.0           1.002  \n",
       "2           115.0           1.003  \n",
       "3             3.0           2.001  \n",
       "4            73.0           2.002  "
      ]
     },
     "execution_count": 32,
     "metadata": {},
     "output_type": "execute_result"
    }
   ],
   "source": [
    "# Drop 'pl_rank_1', 'pl_rank_2', 'pr_rank', 'me_rank', 'pl_rank_1_number', 'pl_rank_2_number'\n",
    "input_data_df = input_data_df.drop(columns=['pl_rank_1', 'pl_rank_2', 'pr_rank', 'me_rank', 'pl_rank_1_number', 'pl_rank_2_number'])\n",
    "# Delete the rows if any values in pr_rank_number\tme_rank_number\tpl_rank_number are empty\n",
    "input_data_df = input_data_df.dropna(subset=['pr_rank_number', 'me_rank_number', 'pl_rank_number'])\n",
    "\n",
    "print(input_data_df.shape)\n",
    "input_data_df.head()"
   ]
  },
  {
   "cell_type": "markdown",
   "metadata": {},
   "source": [
    "# Calculate pearsonr for pr_rank_number\tme_rank_number\tpl_rank_number"
   ]
  },
  {
   "cell_type": "code",
   "execution_count": 33,
   "metadata": {},
   "outputs": [
    {
     "data": {
      "text/html": [
       "<div>\n",
       "<style scoped>\n",
       "    .dataframe tbody tr th:only-of-type {\n",
       "        vertical-align: middle;\n",
       "    }\n",
       "\n",
       "    .dataframe tbody tr th {\n",
       "        vertical-align: top;\n",
       "    }\n",
       "\n",
       "    .dataframe thead th {\n",
       "        text-align: right;\n",
       "    }\n",
       "</style>\n",
       "<table border=\"1\" class=\"dataframe\">\n",
       "  <thead>\n",
       "    <tr style=\"text-align: right;\">\n",
       "      <th></th>\n",
       "      <th>correlation_coefficient</th>\n",
       "      <th>p_value</th>\n",
       "    </tr>\n",
       "  </thead>\n",
       "  <tbody>\n",
       "    <tr>\n",
       "      <th>metropolitan_provincial</th>\n",
       "      <td>0.075779</td>\n",
       "      <td>1.326249e-18</td>\n",
       "    </tr>\n",
       "    <tr>\n",
       "      <th>palace_provincial</th>\n",
       "      <td>0.043199</td>\n",
       "      <td>5.340735e-07</td>\n",
       "    </tr>\n",
       "    <tr>\n",
       "      <th>palace_metropolitan</th>\n",
       "      <td>0.182584</td>\n",
       "      <td>3.097262e-101</td>\n",
       "    </tr>\n",
       "  </tbody>\n",
       "</table>\n",
       "</div>"
      ],
      "text/plain": [
       "                         correlation_coefficient        p_value\n",
       "metropolitan_provincial                 0.075779   1.326249e-18\n",
       "palace_provincial                       0.043199   5.340735e-07\n",
       "palace_metropolitan                     0.182584  3.097262e-101"
      ]
     },
     "execution_count": 33,
     "metadata": {},
     "output_type": "execute_result"
    }
   ],
   "source": [
    "from scipy.stats import pearsonr\n",
    "pr_rank_number = input_data_df['pr_rank_number']\n",
    "me_rank_number = input_data_df['me_rank_number']\n",
    "pl_rank_number = input_data_df['pl_rank_number']\n",
    "pearsonr_me_pr = pearsonr(me_rank_number, pr_rank_number)\n",
    "pearsonr_pl_pr = pearsonr(pl_rank_number, pr_rank_number)\n",
    "pearsonr_pl_me = pearsonr(pl_rank_number, me_rank_number)\n",
    "\n",
    "# calculate the correlation coefficient between pr_rank_number and me_rank_number\n",
    "index_names = ['metropolitan_provincial', 'palace_provincial', 'palace_metropolitan']\n",
    "correlation_coefficient = [pearsonr_me_pr[0], pearsonr_pl_pr[0], pearsonr_pl_me[0]]\n",
    "correlation_p_value = [pearsonr_me_pr[1], pearsonr_pl_pr[1], pearsonr_pl_me[1]]\n",
    "correlation_df = pd.DataFrame({'correlation_coefficient': correlation_coefficient, 'p_value': correlation_p_value}, index=index_names)\n",
    "\n",
    "correlation_df"
   ]
  },
  {
   "cell_type": "markdown",
   "metadata": {},
   "source": [
    "## Draw the number one in me, the Histogram of the pr ranks"
   ]
  },
  {
   "cell_type": "code",
   "execution_count": 34,
   "metadata": {},
   "outputs": [
    {
     "data": {
      "text/plain": [
       "<AxesSubplot:>"
      ]
     },
     "execution_count": 34,
     "metadata": {},
     "output_type": "execute_result"
    },
    {
     "data": {
      "image/png": "[encoded data removed]",
      "text/plain": [
       "<Figure size 640x480 with 1 Axes>"
      ]
     },
     "metadata": {},
     "output_type": "display_data"
    }
   ],
   "source": [
    "# When me_rank_number = 1.0, the distribution the pr_rank_number\n",
    "input_data_df_me_rank_1 = input_data_df[input_data_df['me_rank_number'] == 1.0]\n",
    "input_data_df_me_rank_1['pr_rank_number'].hist()"
   ]
  },
  {
   "cell_type": "code",
   "execution_count": 45,
   "metadata": {},
   "outputs": [
    {
     "data": {
      "text/plain": [
       "(0.574468085106383, 0.425531914893617)"
      ]
     },
     "execution_count": 45,
     "metadata": {},
     "output_type": "execute_result"
    }
   ],
   "source": [
    "# Calculate the rate of pr_rank_number < 10 and pr_rank_number >= 10\n",
    "pr_rank_number_lt_10 = input_data_df_me_rank_1[input_data_df_me_rank_1['pr_rank_number'] < 10].shape[0]\n",
    "pr_rank_number_ge_10 = input_data_df_me_rank_1[input_data_df_me_rank_1['pr_rank_number'] >= 10].shape[0]\n",
    "pr_rank_number_lt_10_rate = pr_rank_number_lt_10 / (pr_rank_number_lt_10 + pr_rank_number_ge_10)\n",
    "pr_rank_number_ge_10_rate = pr_rank_number_ge_10 / (pr_rank_number_lt_10 + pr_rank_number_ge_10)\n",
    "\n",
    "pr_rank_number_lt_10_rate, pr_rank_number_ge_10_rate"
   ]
  },
  {
   "cell_type": "code",
   "execution_count": 35,
   "metadata": {},
   "outputs": [
    {
     "data": {
      "text/plain": [
       "<AxesSubplot:>"
      ]
     },
     "execution_count": 35,
     "metadata": {},
     "output_type": "execute_result"
    },
    {
     "data": {
      "image/png": "[encoded data removed]",
      "text/plain": [
       "<Figure size 640x480 with 1 Axes>"
      ]
     },
     "metadata": {},
     "output_type": "display_data"
    }
   ],
   "source": [
    "# Only keep the rows with pr_rank_number <= 10\n",
    "input_data_df_me_rank_1_pr_less_than_10 = input_data_df_me_rank_1[input_data_df_me_rank_1['pr_rank_number'] <= 10]\n",
    "input_data_df_me_rank_1_pr_less_than_10['pr_rank_number'].hist()"
   ]
  },
  {
   "cell_type": "markdown",
   "metadata": {},
   "source": [
    "## Draw the number one in pr, the Histogram of the me ranks"
   ]
  },
  {
   "cell_type": "code",
   "execution_count": 36,
   "metadata": {},
   "outputs": [
    {
     "data": {
      "text/plain": [
       "<AxesSubplot:>"
      ]
     },
     "execution_count": 36,
     "metadata": {},
     "output_type": "execute_result"
    },
    {
     "data": {
      "image/png": "[encoded data removed]",
      "text/plain": [
       "<Figure size 640x480 with 1 Axes>"
      ]
     },
     "metadata": {},
     "output_type": "display_data"
    }
   ],
   "source": [
    "# Draw the number on in pr, the Histogram of the me ranks\n",
    "input_data_df_pr_rank_1 = input_data_df[input_data_df['pr_rank_number'] == 1.0]\n",
    "input_data_df_pr_rank_1['me_rank_number'].hist()"
   ]
  },
  {
   "cell_type": "code",
   "execution_count": 46,
   "metadata": {},
   "outputs": [
    {
     "data": {
      "text/plain": [
       "(0.09703504043126684, 0.9029649595687331)"
      ]
     },
     "execution_count": 46,
     "metadata": {},
     "output_type": "execute_result"
    }
   ],
   "source": [
    "# Calculate the rate of pm_rank_number < 10 and pm_rank_number >= 10\n",
    "me_rank_number_lt_10 = input_data_df_pr_rank_1[input_data_df_pr_rank_1['me_rank_number'] < 10].shape[0]\n",
    "me_rank_number_ge_10 = input_data_df_pr_rank_1[input_data_df_pr_rank_1['me_rank_number'] >= 10].shape[0]\n",
    "me_rank_number_lt_10_rate = me_rank_number_lt_10 / (me_rank_number_lt_10 + me_rank_number_ge_10)\n",
    "me_rank_number_ge_10_rate = me_rank_number_ge_10 / (me_rank_number_lt_10 + me_rank_number_ge_10)\n",
    "\n",
    "me_rank_number_lt_10_rate, me_rank_number_ge_10_rate"
   ]
  },
  {
   "cell_type": "code",
   "execution_count": 42,
   "metadata": {},
   "outputs": [
    {
     "data": {
      "text/plain": [
       "<AxesSubplot:>"
      ]
     },
     "execution_count": 42,
     "metadata": {},
     "output_type": "execute_result"
    },
    {
     "data": {
      "image/png": "[encoded data removed]",
      "text/plain": [
       "<Figure size 640x480 with 1 Axes>"
      ]
     },
     "metadata": {},
     "output_type": "display_data"
    }
   ],
   "source": [
    "input_data_df_pr_rank_1_me_less_than_10 = input_data_df_pr_rank_1[input_data_df_pr_rank_1['me_rank_number'] <= 10]\n",
    "input_data_df_pr_rank_1_me_less_than_10['me_rank_number'].hist()"
   ]
  },
  {
   "cell_type": "markdown",
   "metadata": {},
   "source": [
    "## Correlations of entry_year groups"
   ]
  },
  {
   "cell_type": "code",
   "execution_count": 38,
   "metadata": {},
   "outputs": [
    {
     "data": {
      "text/html": [
       "<div>\n",
       "<style scoped>\n",
       "    .dataframe tbody tr th:only-of-type {\n",
       "        vertical-align: middle;\n",
       "    }\n",
       "\n",
       "    .dataframe tbody tr th {\n",
       "        vertical-align: top;\n",
       "    }\n",
       "\n",
       "    .dataframe thead th {\n",
       "        text-align: right;\n",
       "    }\n",
       "</style>\n",
       "<table border=\"1\" class=\"dataframe\">\n",
       "  <thead>\n",
       "    <tr style=\"text-align: right;\">\n",
       "      <th></th>\n",
       "      <th>ID_MING_JINSHI</th>\n",
       "      <th>personid</th>\n",
       "      <th>name</th>\n",
       "      <th>entry_year</th>\n",
       "      <th>pr_rank_number</th>\n",
       "      <th>me_rank_number</th>\n",
       "      <th>pl_rank_number</th>\n",
       "      <th>entry_year_interval</th>\n",
       "    </tr>\n",
       "  </thead>\n",
       "  <tbody>\n",
       "    <tr>\n",
       "      <th>0</th>\n",
       "      <td>JINSHI_1-120.csv_1</td>\n",
       "      <td>34414</td>\n",
       "      <td>吳伯宗</td>\n",
       "      <td>1371</td>\n",
       "      <td>1.0</td>\n",
       "      <td>24.0</td>\n",
       "      <td>1.001</td>\n",
       "      <td>1350</td>\n",
       "    </tr>\n",
       "    <tr>\n",
       "      <th>1</th>\n",
       "      <td>JINSHI_1-120.csv_2</td>\n",
       "      <td>198025</td>\n",
       "      <td>郭翀</td>\n",
       "      <td>1371</td>\n",
       "      <td>8.0</td>\n",
       "      <td>51.0</td>\n",
       "      <td>1.002</td>\n",
       "      <td>1350</td>\n",
       "    </tr>\n",
       "    <tr>\n",
       "      <th>2</th>\n",
       "      <td>JINSHI_1-120.csv_3</td>\n",
       "      <td>198026</td>\n",
       "      <td>吳公達</td>\n",
       "      <td>1371</td>\n",
       "      <td>29.0</td>\n",
       "      <td>115.0</td>\n",
       "      <td>1.003</td>\n",
       "      <td>1350</td>\n",
       "    </tr>\n",
       "    <tr>\n",
       "      <th>3</th>\n",
       "      <td>JINSHI_1-120.csv_4</td>\n",
       "      <td>66504</td>\n",
       "      <td>楊自立</td>\n",
       "      <td>1371</td>\n",
       "      <td>8.0</td>\n",
       "      <td>3.0</td>\n",
       "      <td>2.001</td>\n",
       "      <td>1350</td>\n",
       "    </tr>\n",
       "    <tr>\n",
       "      <th>4</th>\n",
       "      <td>JINSHI_1-120.csv_5</td>\n",
       "      <td>198027</td>\n",
       "      <td>趙友能</td>\n",
       "      <td>1371</td>\n",
       "      <td>28.0</td>\n",
       "      <td>73.0</td>\n",
       "      <td>2.002</td>\n",
       "      <td>1350</td>\n",
       "    </tr>\n",
       "  </tbody>\n",
       "</table>\n",
       "</div>"
      ],
      "text/plain": [
       "       ID_MING_JINSHI  personid name  entry_year  pr_rank_number  \\\n",
       "0  JINSHI_1-120.csv_1     34414  吳伯宗        1371             1.0   \n",
       "1  JINSHI_1-120.csv_2    198025   郭翀        1371             8.0   \n",
       "2  JINSHI_1-120.csv_3    198026  吳公達        1371            29.0   \n",
       "3  JINSHI_1-120.csv_4     66504  楊自立        1371             8.0   \n",
       "4  JINSHI_1-120.csv_5    198027  趙友能        1371            28.0   \n",
       "\n",
       "   me_rank_number  pl_rank_number  entry_year_interval  \n",
       "0            24.0           1.001                 1350  \n",
       "1            51.0           1.002                 1350  \n",
       "2           115.0           1.003                 1350  \n",
       "3             3.0           2.001                 1350  \n",
       "4            73.0           2.002                 1350  "
      ]
     },
     "execution_count": 38,
     "metadata": {},
     "output_type": "execute_result"
    }
   ],
   "source": [
    "year_interval = 30\n",
    "\n",
    "# Create a new column 'entry_year_interval' by dividing 'entry_year' by year_interval and rounding down\n",
    "input_data_df['entry_year_interval'] = input_data_df['entry_year'] // year_interval * year_interval\n",
    "# Save input_data_df to a csv file\n",
    "input_data_df.head()"
   ]
  },
  {
   "cell_type": "code",
   "execution_count": 39,
   "metadata": {},
   "outputs": [],
   "source": [
    "# Calcuate pearson correlation coefficient and pvalue for each year_interval\n",
    "correlation_coefficient_list = []\n",
    "correlation_p_value_list = []\n",
    "for year in input_data_df['entry_year_interval'].unique():\n",
    "    temp_df = input_data_df[input_data_df['entry_year_interval'] == year]\n",
    "    pr_rank_number = temp_df['pr_rank_number']\n",
    "    me_rank_number = temp_df['me_rank_number']\n",
    "    pl_rank_number = temp_df['pl_rank_number']\n",
    "    pearsonr_me_pr = pearsonr(me_rank_number, pr_rank_number)\n",
    "    pearsonr_pl_pr = pearsonr(pl_rank_number, pr_rank_number)\n",
    "    pearsonr_pl_me = pearsonr(pl_rank_number, me_rank_number)\n",
    "    data_number = temp_df.shape[0]\n",
    "    correlation_coefficient_list.append([pearsonr_me_pr[0], pearsonr_pl_pr[0], pearsonr_pl_me[0], data_number])\n",
    "    correlation_p_value_list.append([pearsonr_me_pr[1], pearsonr_pl_pr[1], pearsonr_pl_me[1], data_number])\n",
    "\n",
    "correlation_coefficient_df = pd.DataFrame(correlation_coefficient_list, columns=['metropolitan_provincial', 'palace_provincial', 'palace_metropolitan', \"data_number\"], index=input_data_df['entry_year_interval'].unique())\n",
    "correlation_p_value_df = pd.DataFrame(correlation_p_value_list, columns=['metropolitan_provincial', 'palace_provincial', 'palace_metropolitan', \"data_number\"], index=input_data_df['entry_year_interval'].unique())\n",
    "\n",
    "correlation_coefficient_df = correlation_coefficient_df.sort_index()\n",
    "correlation_p_value_df = correlation_p_value_df.sort_index()"
   ]
  },
  {
   "cell_type": "code",
   "execution_count": 40,
   "metadata": {},
   "outputs": [
    {
     "data": {
      "text/html": [
       "<div>\n",
       "<style scoped>\n",
       "    .dataframe tbody tr th:only-of-type {\n",
       "        vertical-align: middle;\n",
       "    }\n",
       "\n",
       "    .dataframe tbody tr th {\n",
       "        vertical-align: top;\n",
       "    }\n",
       "\n",
       "    .dataframe thead th {\n",
       "        text-align: right;\n",
       "    }\n",
       "</style>\n",
       "<table border=\"1\" class=\"dataframe\">\n",
       "  <thead>\n",
       "    <tr style=\"text-align: right;\">\n",
       "      <th></th>\n",
       "      <th>metropolitan_provincial</th>\n",
       "      <th>palace_provincial</th>\n",
       "      <th>palace_metropolitan</th>\n",
       "      <th>data_number</th>\n",
       "    </tr>\n",
       "  </thead>\n",
       "  <tbody>\n",
       "    <tr>\n",
       "      <th>1350</th>\n",
       "      <td>0.623879</td>\n",
       "      <td>0.642551</td>\n",
       "      <td>1.859445e-01</td>\n",
       "      <td>62</td>\n",
       "    </tr>\n",
       "    <tr>\n",
       "      <th>1380</th>\n",
       "      <td>0.418075</td>\n",
       "      <td>0.239680</td>\n",
       "      <td>4.099069e-03</td>\n",
       "      <td>109</td>\n",
       "    </tr>\n",
       "    <tr>\n",
       "      <th>1410</th>\n",
       "      <td>0.114819</td>\n",
       "      <td>0.526828</td>\n",
       "      <td>5.055697e-04</td>\n",
       "      <td>336</td>\n",
       "    </tr>\n",
       "    <tr>\n",
       "      <th>1440</th>\n",
       "      <td>0.000005</td>\n",
       "      <td>0.103154</td>\n",
       "      <td>8.315839e-13</td>\n",
       "      <td>2238</td>\n",
       "    </tr>\n",
       "    <tr>\n",
       "      <th>1470</th>\n",
       "      <td>0.003666</td>\n",
       "      <td>0.001001</td>\n",
       "      <td>3.677759e-12</td>\n",
       "      <td>2387</td>\n",
       "    </tr>\n",
       "    <tr>\n",
       "      <th>1500</th>\n",
       "      <td>0.000023</td>\n",
       "      <td>0.085319</td>\n",
       "      <td>1.404573e-11</td>\n",
       "      <td>1843</td>\n",
       "    </tr>\n",
       "    <tr>\n",
       "      <th>1530</th>\n",
       "      <td>0.000351</td>\n",
       "      <td>0.175246</td>\n",
       "      <td>1.304696e-19</td>\n",
       "      <td>3170</td>\n",
       "    </tr>\n",
       "    <tr>\n",
       "      <th>1560</th>\n",
       "      <td>0.000017</td>\n",
       "      <td>0.001441</td>\n",
       "      <td>1.887709e-27</td>\n",
       "      <td>3085</td>\n",
       "    </tr>\n",
       "    <tr>\n",
       "      <th>1590</th>\n",
       "      <td>0.417508</td>\n",
       "      <td>0.994437</td>\n",
       "      <td>3.531217e-02</td>\n",
       "      <td>230</td>\n",
       "    </tr>\n",
       "  </tbody>\n",
       "</table>\n",
       "</div>"
      ],
      "text/plain": [
       "      metropolitan_provincial  palace_provincial  palace_metropolitan  \\\n",
       "1350                 0.623879           0.642551         1.859445e-01   \n",
       "1380                 0.418075           0.239680         4.099069e-03   \n",
       "1410                 0.114819           0.526828         5.055697e-04   \n",
       "1440                 0.000005           0.103154         8.315839e-13   \n",
       "1470                 0.003666           0.001001         3.677759e-12   \n",
       "1500                 0.000023           0.085319         1.404573e-11   \n",
       "1530                 0.000351           0.175246         1.304696e-19   \n",
       "1560                 0.000017           0.001441         1.887709e-27   \n",
       "1590                 0.417508           0.994437         3.531217e-02   \n",
       "\n",
       "      data_number  \n",
       "1350           62  \n",
       "1380          109  \n",
       "1410          336  \n",
       "1440         2238  \n",
       "1470         2387  \n",
       "1500         1843  \n",
       "1530         3170  \n",
       "1560         3085  \n",
       "1590          230  "
      ]
     },
     "execution_count": 40,
     "metadata": {},
     "output_type": "execute_result"
    }
   ],
   "source": [
    "correlation_p_value_df"
   ]
  },
  {
   "cell_type": "code",
   "execution_count": 41,
   "metadata": {},
   "outputs": [
    {
     "data": {
      "text/html": [
       "<div>\n",
       "<style scoped>\n",
       "    .dataframe tbody tr th:only-of-type {\n",
       "        vertical-align: middle;\n",
       "    }\n",
       "\n",
       "    .dataframe tbody tr th {\n",
       "        vertical-align: top;\n",
       "    }\n",
       "\n",
       "    .dataframe thead th {\n",
       "        text-align: right;\n",
       "    }\n",
       "</style>\n",
       "<table border=\"1\" class=\"dataframe\">\n",
       "  <thead>\n",
       "    <tr style=\"text-align: right;\">\n",
       "      <th></th>\n",
       "      <th>metropolitan_provincial</th>\n",
       "      <th>palace_provincial</th>\n",
       "      <th>palace_metropolitan</th>\n",
       "      <th>data_number</th>\n",
       "    </tr>\n",
       "  </thead>\n",
       "  <tbody>\n",
       "    <tr>\n",
       "      <th>1350</th>\n",
       "      <td>0.063505</td>\n",
       "      <td>0.060115</td>\n",
       "      <td>0.170215</td>\n",
       "      <td>62</td>\n",
       "    </tr>\n",
       "    <tr>\n",
       "      <th>1380</th>\n",
       "      <td>0.078345</td>\n",
       "      <td>0.113565</td>\n",
       "      <td>0.272847</td>\n",
       "      <td>109</td>\n",
       "    </tr>\n",
       "    <tr>\n",
       "      <th>1410</th>\n",
       "      <td>0.086188</td>\n",
       "      <td>0.034644</td>\n",
       "      <td>0.188724</td>\n",
       "      <td>336</td>\n",
       "    </tr>\n",
       "    <tr>\n",
       "      <th>1440</th>\n",
       "      <td>0.096151</td>\n",
       "      <td>0.034459</td>\n",
       "      <td>0.150484</td>\n",
       "      <td>2238</td>\n",
       "    </tr>\n",
       "    <tr>\n",
       "      <th>1470</th>\n",
       "      <td>0.059449</td>\n",
       "      <td>0.067301</td>\n",
       "      <td>0.141590</td>\n",
       "      <td>2387</td>\n",
       "    </tr>\n",
       "    <tr>\n",
       "      <th>1500</th>\n",
       "      <td>0.098375</td>\n",
       "      <td>0.040091</td>\n",
       "      <td>0.156540</td>\n",
       "      <td>1843</td>\n",
       "    </tr>\n",
       "    <tr>\n",
       "      <th>1530</th>\n",
       "      <td>0.063449</td>\n",
       "      <td>0.024082</td>\n",
       "      <td>0.159942</td>\n",
       "      <td>3170</td>\n",
       "    </tr>\n",
       "    <tr>\n",
       "      <th>1560</th>\n",
       "      <td>0.077319</td>\n",
       "      <td>0.057343</td>\n",
       "      <td>0.193661</td>\n",
       "      <td>3085</td>\n",
       "    </tr>\n",
       "    <tr>\n",
       "      <th>1590</th>\n",
       "      <td>0.053714</td>\n",
       "      <td>-0.000462</td>\n",
       "      <td>0.138867</td>\n",
       "      <td>230</td>\n",
       "    </tr>\n",
       "  </tbody>\n",
       "</table>\n",
       "</div>"
      ],
      "text/plain": [
       "      metropolitan_provincial  palace_provincial  palace_metropolitan  \\\n",
       "1350                 0.063505           0.060115             0.170215   \n",
       "1380                 0.078345           0.113565             0.272847   \n",
       "1410                 0.086188           0.034644             0.188724   \n",
       "1440                 0.096151           0.034459             0.150484   \n",
       "1470                 0.059449           0.067301             0.141590   \n",
       "1500                 0.098375           0.040091             0.156540   \n",
       "1530                 0.063449           0.024082             0.159942   \n",
       "1560                 0.077319           0.057343             0.193661   \n",
       "1590                 0.053714          -0.000462             0.138867   \n",
       "\n",
       "      data_number  \n",
       "1350           62  \n",
       "1380          109  \n",
       "1410          336  \n",
       "1440         2238  \n",
       "1470         2387  \n",
       "1500         1843  \n",
       "1530         3170  \n",
       "1560         3085  \n",
       "1590          230  "
      ]
     },
     "execution_count": 41,
     "metadata": {},
     "output_type": "execute_result"
    }
   ],
   "source": [
    "correlation_coefficient_df"
   ]
  },
  {
   "cell_type": "markdown",
   "metadata": {},
   "source": []
  }
 ],
 "metadata": {
  "kernelspec": {
   "display_name": "base",
   "language": "python",
   "name": "python3"
  },
  "language_info": {
   "codemirror_mode": {
    "name": "ipython",
    "version": 3
   },
   "file_extension": ".py",
   "mimetype": "text/x-python",
   "name": "python",
   "nbconvert_exporter": "python",
   "pygments_lexer": "ipython3",
   "version": "3.9.17"
  }
 },
 "nbformat": 4,
 "nbformat_minor": 2
}
